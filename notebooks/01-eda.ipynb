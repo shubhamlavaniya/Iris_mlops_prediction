{
 "cells": [
  {
   "cell_type": "code",
   "execution_count": null,
   "id": "e70e877c",
   "metadata": {},
   "outputs": [
    {
     "ename": "",
     "evalue": "",
     "output_type": "error",
     "traceback": [
      "\u001b[1;31mRunning cells with '.venv (Python 3.8.8)' requires the ipykernel package.\n",
      "\u001b[1;31mInstall 'ipykernel' into the Python environment. \n",
      "\u001b[1;31mCommand: '/Users/shubhamlavaniya/Downloads/Study/Ecom_mlops/.venv/bin/python -m pip install ipykernel -U --force-reinstall'"
     ]
    }
   ],
   "source": [
    "import pandas as pd\n",
    "import matplotlib.pyplot as plt\n",
    "import seaborn as sns\n",
    "\n",
    "# Load the dataset\n",
    "df = pd.read_excel(\"../data/raw/Online Retail.xlsx\")\n",
    "\n",
    "# Quick overview\n",
    "print(\"Shape:\", df.shape)\n",
    "print(df.info())\n",
    "display(df.head())\n",
    "\n",
    "# Check for nulls\n",
    "print(df.isnull().sum())\n",
    "\n",
    "# Drop rows with missing CustomerID\n",
    "df = df.dropna(subset=['CustomerID'])\n",
    "\n",
    "# Basic sales amount column\n",
    "df['TotalPrice'] = df['Quantity'] * df['UnitPrice']\n",
    "\n",
    "# Convert InvoiceDate to datetime if not already\n",
    "df['InvoiceDate'] = pd.to_datetime(df['InvoiceDate'])\n",
    "\n",
    "# Extract month-year\n",
    "df['YearMonth'] = df['InvoiceDate'].dt.to_period('M')\n",
    "\n",
    "# Group sales by month\n",
    "monthly_sales = df.groupby('YearMonth')['TotalPrice'].sum()\n",
    "\n",
    "# Plot sales trend\n",
    "monthly_sales.plot(kind='line', figsize=(12, 5), title=\"Monthly Sales Trend\")\n",
    "plt.ylabel(\"Sales (£)\")\n",
    "plt.grid(True)\n",
    "plt.show()\n",
    "\n",
    "\n",
    "import os\n",
    "\n",
    "# Create processed data folder if it doesn't exist\n",
    "os.makedirs(\"../data/processed\", exist_ok=True)\n",
    "\n",
    "# Filtered + cleaned DataFrame (assuming your clean DataFrame is `df`)\n",
    "# If you're using a different variable name (like df_clean), replace accordingly\n",
    "\n",
    "# Drop rows with negative or zero quantities/prices\n",
    "df = df[(df['Quantity'] > 0) & (df['UnitPrice'] > 0)]\n",
    "\n",
    "# Drop NA customer IDs\n",
    "df = df.dropna(subset=[\"CustomerID\"])\n",
    "\n",
    "# Create new target variable\n",
    "df['TotalPrice'] = df['Quantity'] * df['UnitPrice']\n",
    "\n",
    "# Reset index\n",
    "df = df.reset_index(drop=True)\n",
    "\n",
    "# Save to CSV\n",
    "df.to_csv(\"../data/processed/retail_clean.csv\", index=False)\n",
    "\n",
    "print(\"Cleaned dataset saved to: ../data/processed/retail_clean.csv\")\n",
    "\n"
   ]
  },
  {
   "cell_type": "code",
   "execution_count": null,
   "id": "95de4247",
   "metadata": {},
   "outputs": [
    {
     "ename": "",
     "evalue": "",
     "output_type": "error",
     "traceback": [
      "\u001b[1;31mRunning cells with '.venv (Python 3.8.8)' requires the ipykernel package.\n",
      "\u001b[1;31mInstall 'ipykernel' into the Python environment. \n",
      "\u001b[1;31mCommand: '/Users/shubhamlavaniya/Downloads/Study/Ecom_mlops/.venv/bin/python -m pip install ipykernel -U --force-reinstall'"
     ]
    }
   ],
   "source": [
    "df.head()\n"
   ]
  }
 ],
 "metadata": {
  "kernelspec": {
   "display_name": ".venv",
   "language": "python",
   "name": "python3"
  },
  "language_info": {
   "codemirror_mode": {
    "name": "ipython",
    "version": 3
   },
   "file_extension": ".py",
   "mimetype": "text/x-python",
   "name": "python",
   "nbconvert_exporter": "python",
   "pygments_lexer": "ipython3",
   "version": "3.8.8"
  }
 },
 "nbformat": 4,
 "nbformat_minor": 5
}
