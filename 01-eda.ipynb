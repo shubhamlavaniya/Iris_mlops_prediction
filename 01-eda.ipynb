{
 "cells": [
  {
   "cell_type": "code",
   "execution_count": null,
   "id": "e70e877c",
   "metadata": {},
   "outputs": [],
   "source": [
    "import pandas as pd\n",
    "import matplotlib.pyplot as plt\n",
    "import seaborn as sns\n",
    "\n",
    "# Load the dataset\n",
    "df = pd.read_excel(\"../data/raw/Online Retail.xlsx\")\n",
    "\n",
    "# Quick overview\n",
    "print(\"Shape:\", df.shape)\n",
    "print(df.info())\n",
    "display(df.head())\n",
    "\n",
    "# Check for nulls\n",
    "print(df.isnull().sum())\n",
    "\n",
    "# Drop rows with missing CustomerID\n",
    "df = df.dropna(subset=['CustomerID'])\n",
    "\n",
    "# Basic sales amount column\n",
    "df['TotalPrice'] = df['Quantity'] * df['UnitPrice']\n",
    "\n",
    "# Convert InvoiceDate to datetime if not already\n",
    "df['InvoiceDate'] = pd.to_datetime(df['InvoiceDate'])\n",
    "\n",
    "# Extract month-year\n",
    "df['YearMonth'] = df['InvoiceDate'].dt.to_period('M')\n",
    "\n",
    "# Group sales by month\n",
    "monthly_sales = df.groupby('YearMonth')['TotalPrice'].sum()\n",
    "\n",
    "# Plot sales trend\n",
    "monthly_sales.plot(kind='line', figsize=(12, 5), title=\"Monthly Sales Trend\")\n",
    "plt.ylabel(\"Sales (£)\")\n",
    "plt.grid(True)\n",
    "plt.show()\n"
   ]
  }
 ],
 "metadata": {
  "kernelspec": {
   "display_name": ".venv",
   "language": "python",
   "name": "python3"
  },
  "language_info": {
   "name": "python",
   "version": "3.11.5"
  }
 },
 "nbformat": 4,
 "nbformat_minor": 5
}
